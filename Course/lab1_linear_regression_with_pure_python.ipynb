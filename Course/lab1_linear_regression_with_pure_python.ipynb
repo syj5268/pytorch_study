{
 "cells": [
  {
   "cell_type": "markdown",
   "metadata": {},
   "source": [
    "# 1. Data Generation"
   ]
  },
  {
   "cell_type": "code",
   "execution_count": 20,
   "metadata": {},
   "outputs": [],
   "source": [
    "X= [0,1,2,3,4,5,6,7,8,9]\n",
    "Y= [1,1,2,4,5,7,8,9,9,10]"
   ]
  },
  {
   "cell_type": "code",
   "execution_count": 21,
   "metadata": {},
   "outputs": [
    {
     "data": {
      "image/png": "[encoded data removed]",
      "text/plain": [
       "<Figure size 432x288 with 1 Axes>"
      ]
     },
     "metadata": {
      "needs_background": "light"
     },
     "output_type": "display_data"
    }
   ],
   "source": [
    "import matplotlib.pyplot as plt\n",
    "plt.scatter(X,Y)\n",
    "plt.show()"
   ]
  },
  {
   "cell_type": "markdown",
   "metadata": {},
   "source": [
    "# 2. Hypothesis Define (Model Define)"
   ]
  },
  {
   "cell_type": "code",
   "execution_count": 22,
   "metadata": {},
   "outputs": [],
   "source": [
    "class H():\n",
    "    def __init__(self,w):\n",
    "        self.w=w\n",
    "    def forward(self,x):\n",
    "        return self.w*x"
   ]
  },
  {
   "cell_type": "code",
   "execution_count": 23,
   "metadata": {},
   "outputs": [
    {
     "name": "stdout",
     "output_type": "stream",
     "text": [
      "value of f(5) : 20\n",
      "value of w : 4\n"
     ]
    }
   ],
   "source": [
    "h = H(4) # y = 4x\n",
    "pred_y = h.forward(5) # x=5\n",
    "print('value of f(5) :',pred_y)\n",
    "print('value of w :', h.w)"
   ]
  },
  {
   "cell_type": "markdown",
   "metadata": {},
   "source": [
    "# 3. Cost Function Define (Loss Function Define)"
   ]
  },
  {
   "cell_type": "code",
   "execution_count": 24,
   "metadata": {},
   "outputs": [],
   "source": [
    "def cost(h,X,Y):\n",
    "    error =0\n",
    "    for i in range(len(X)):\n",
    "        error += (h.forward(X[i])-Y[i])**2\n",
    "    error = error/len(X)\n",
    "    return error"
   ]
  },
  {
   "cell_type": "code",
   "execution_count": 25,
   "metadata": {},
   "outputs": [
    {
     "name": "stdout",
     "output_type": "stream",
     "text": [
      "cost value when w=4 : 222.2\n"
     ]
    }
   ],
   "source": [
    "h = H(4)\n",
    "print('cost value when w=4 :', cost(h,X,Y))"
   ]
  },
  {
   "cell_type": "code",
   "execution_count": 26,
   "metadata": {},
   "outputs": [],
   "source": [
    "def better_cost(pred_y, true_y):\n",
    "    error =0\n",
    "    for i in range(len(X)):\n",
    "        error += (pred_y[i]-true_y[i])**2\n",
    "    error = error/len(X)\n",
    "    return error"
   ]
  },
  {
   "cell_type": "code",
   "execution_count": 27,
   "metadata": {},
   "outputs": [
    {
     "name": "stdout",
     "output_type": "stream",
     "text": [
      "cost value when w=4 with better code structure: 222.2\n"
     ]
    }
   ],
   "source": [
    "pred_y = [h.forward(X[i]) for i in  range(len(X))]\n",
    "print('cost value when w=4 with better code structure:', better_cost(pred_y,Y))"
   ]
  },
  {
   "cell_type": "markdown",
   "metadata": {},
   "source": [
    "### Cost Surface Visualization"
   ]
  },
  {
   "cell_type": "code",
   "execution_count": 28,
   "metadata": {},
   "outputs": [
    {
     "name": "stdout",
     "output_type": "stream",
     "text": [
      "[-10.0, -9.5, -9.0, -8.5, -8.0, -7.5, -7.0, -6.5, -6.0, -5.5, -5.0, -4.5, -4.0, -3.5, -3.0, -2.5, -2.0, -1.5, -1.0, -0.5, 0.0, 0.5, 1.0, 1.5, 2.0, 2.5, 3.0, 3.5, 4.0, 4.5, 5.0, 5.5, 6.0, 6.5, 7.0, 7.5, 8.0, 8.5, 9.0, 9.5]\n",
      "[3582.2, 3269.825, 2971.7, 2687.825, 2418.2, 2162.825, 1921.7, 1694.825, 1482.2, 1283.825, 1099.7, 929.825, 774.2, 632.825, 505.7, 392.825, 294.2, 209.825, 139.7, 83.825, 42.2, 14.825, 1.7, 2.825, 18.2, 47.825, 91.7, 149.825, 222.2, 308.825, 409.7, 524.825, 654.2, 797.825, 955.7, 1127.825, 1314.2, 1514.825, 1729.7, 1958.825]\n"
     ]
    }
   ],
   "source": [
    "list_w = []\n",
    "list_c = []\n",
    "\n",
    "for i in range(-20, 20):\n",
    "    w = i*0.5\n",
    "    h = H(w)\n",
    "    c = cost(h,X,Y)\n",
    "    list_w.append(w)\n",
    "    list_c.append(c)\n",
    "\n",
    "print(list_w)\n",
    "print(list_c)"
   ]
  },
  {
   "cell_type": "code",
   "execution_count": 29,
   "metadata": {},
   "outputs": [
    {
     "data": {
      "text/plain": [
       "<matplotlib.collections.PathCollection at 0x7f9dec65a320>"
      ]
     },
     "execution_count": 29,
     "metadata": {},
     "output_type": "execute_result"
    },
    {
     "data": {
      "image/png": "[encoded data removed]",
      "text/plain": [
       "<Figure size 720x360 with 1 Axes>"
      ]
     },
     "metadata": {
      "needs_background": "light"
     },
     "output_type": "display_data"
    }
   ],
   "source": [
    "plt.figure(figsize=(10,5))\n",
    "plt.xlabel('w')\n",
    "plt.ylabel('cost')\n",
    "plt.scatter(list_w,list_c, s=3) #s=3 is size of dot"
   ]
  },
  {
   "cell_type": "markdown",
   "metadata": {},
   "source": [
    "# 4. Gradient Descent Algorithm"
   ]
  },
  {
   "cell_type": "code",
   "execution_count": 33,
   "metadata": {},
   "outputs": [],
   "source": [
    "def cal_grad(w, cost): # 수치해석적 그라디언트 근사\n",
    "    h=H(w)\n",
    "    cost1 = cost(h,X,Y)\n",
    "    \n",
    "    eps = 0.00001\n",
    "\n",
    "    h=H(w+eps)\n",
    "    cost2 = cost(h,X,Y)\n",
    "    \n",
    "    dcost=cost2-cost1\n",
    "    dw = eps\n",
    "    grad = dcost/dw\n",
    "    return grad, (cost1+cost2)/2"
   ]
  },
  {
   "cell_type": "code",
   "execution_count": 35,
   "metadata": {},
   "outputs": [
    {
     "name": "stdout",
     "output_type": "stream",
     "text": [
      "2.4099971500484116 222.20079500142498\n",
      "1.7262959245152274 41.44099699965416\n",
      "1.4323043975399372 8.018510345652484\n",
      "1.3058880409413351 1.8386925634715428\n",
      "1.251529007604498 0.6960442555620926\n",
      "1.2281546232699134 0.48476858343354434\n",
      "1.2181036380061148 0.44570371165760025\n",
      "1.2137817143426064 0.43848061686627154\n",
      "1.211923287167068 0.43714506663932806\n",
      "1.2111241634819545 0.4368981234023502\n"
     ]
    }
   ],
   "source": [
    "w=4\n",
    "lr=0.01\n",
    "for i in range(10):\n",
    "    grad, mean_cost = cal_grad(w,cost)\n",
    "    w-= lr*grad\n",
    "    print(w, mean_cost)"
   ]
  },
  {
   "cell_type": "code",
   "execution_count": 36,
   "metadata": {},
   "outputs": [],
   "source": [
    "def cal_grad2(w, cost): #편미분 공식을 이용한 그라디언트 근사\n",
    "    h=H(w)\n",
    "    grad=0\n",
    "    for i in range(len(X)):\n",
    "        grad += 2*(h.forward(X[i])-Y[i])*X[i]\n",
    "    grad = grad/len(X)\n",
    "    c=cost(h,X,Y)\n",
    "    return grad, c"
   ]
  },
  {
   "cell_type": "code",
   "execution_count": 38,
   "metadata": {},
   "outputs": [
    {
     "name": "stdout",
     "output_type": "stream",
     "text": [
      "2.41 222.2\n",
      "1.7263000000000002 41.44085000000001\n",
      "1.432309 8.018483165000005\n",
      "1.30589287 1.8386875372085008\n",
      "1.2515339341 0.6960433256298524\n",
      "1.228159591663 0.48476841090895945\n",
      "1.21810862441509 0.4457036791770664\n",
      "1.2137867084984888 0.4384806102798395\n",
      "1.2119282846543502 0.4371450648407425\n",
      "1.2111291624013707 0.43689812248905335\n"
     ]
    }
   ],
   "source": [
    "w=4\n",
    "lr=0.01\n",
    "for i in range(10):\n",
    "    grad2, mean_cost2 = cal_grad2(w,cost)\n",
    "    w-= lr*grad2\n",
    "    print(w, mean_cost2)"
   ]
  },
  {
   "cell_type": "code",
   "execution_count": 45,
   "metadata": {},
   "outputs": [
    {
     "name": "stdout",
     "output_type": "stream",
     "text": [
      "179055958470.17358 9.137395335023121e+23 9.879199146895137e+25 8.127273659150879e+52\n"
     ]
    }
   ],
   "source": [
    "w1 = 1.4\n",
    "w2 = 1.4\n",
    "lr = 0.05\n",
    "\n",
    "list_w1 = []\n",
    "list_c1 = []\n",
    "list_w2 = []\n",
    "list_c2 = []\n",
    "\n",
    "for i in range(100):\n",
    "    grad1, mean_cost1 = cal_grad(w1,cost)\n",
    "    grad2, mean_cost2 = cal_grad2(w2,cost)\n",
    "    w1 -= lr*grad1\n",
    "    w2 -= lr*grad2\n",
    "    list_w1.append(w1)\n",
    "    list_c1.append(mean_cost1)\n",
    "    list_w2.append(w2)\n",
    "    list_c2.append(mean_cost2)\n",
    "\n",
    "print(w1, mean_cost1, w2, mean_cost2)"
   ]
  },
  {
   "cell_type": "code",
   "execution_count": 46,
   "metadata": {},
   "outputs": [
    {
     "data": {
      "text/plain": [
       "<matplotlib.legend.Legend at 0x7f9dec5b1f90>"
      ]
     },
     "execution_count": 46,
     "metadata": {},
     "output_type": "execute_result"
    },
    {
     "data": {
      "image/png": "[encoded data removed]",
      "text/plain": [
       "<Figure size 432x288 with 1 Axes>"
      ]
     },
     "metadata": {
      "needs_background": "light"
     },
     "output_type": "display_data"
    }
   ],
   "source": [
    "plt.scatter(list_w1,list_c1, label = 'analytic', marker='*')\n",
    "plt.scatter(list_w2,list_c2, label = 'formula', marker='o')\n",
    "plt.legend()"
   ]
  }
 ],
 "metadata": {
  "kernelspec": {
   "display_name": "Python 3",
   "language": "python",
   "name": "python3"
  },
  "language_info": {
   "codemirror_mode": {
    "name": "ipython",
    "version": 3
   },
   "file_extension": ".py",
   "mimetype": "text/x-python",
   "name": "python",
   "nbconvert_exporter": "python",
   "pygments_lexer": "ipython3",
   "version": "3.10.12"
  }
 },
 "nbformat": 4,
 "nbformat_minor": 2
}
