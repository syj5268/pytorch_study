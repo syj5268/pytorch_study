{
 "cells": [
  {
   "cell_type": "markdown",
   "metadata": {},
   "source": [
    "# Assignment1. MNIST Digit Recogntion\n",
    "\n",
    "이 과제에서는 손으로 쓴 숫자들의 이미지를 input으로 받아서 0~9 중 어느 숫자에 해당하는지를 분류하는 10-way Classification Problem을 풀어 볼 겁니다. 지금까지 실습은 가상의 인공 데이터셋이었다면 이번에는 real-world 데이터셋이니 좀 더 설레지 않나요?\n",
    "\n",
    "`pytorch` 내에 이미 구현되어 있는 MNIST Dataset을 사용하여 데이터가 공급됩니다.  \n",
    "대신 여러분들은 Model을 짜고 올바르게 Loss Function을 활용하는 코드를 작성하는데 집중해주시길 바랍니다.  \n",
    "\n",
    "1. 현재 Linear Model만 구현이 되어 있습니다. MLP Model을 2.Model Architecture 부분에 구현해주세요.\n",
    "2. MLP Model을 생성할 때 hidden unit 수와 hidden layer 수를 인풋으로 넣어주면 해당 값으로 MLP가 자동으로 생성되게 하는 코드를 구현해보세요.  \n",
    "3. 다양한 hidden_unit과 hidden_layer 그리고 learning rate를 바꿔가면서 정확도의 변화를 알려주세요(이 때 모델이 고정되었다면 learning rate부터 바꿔가면서 튜닝해보세요. 차트나 표를 자유롭게 활용하여 결과를 보여주세요.  \n",
    "4. 실험했던 결과 중 Test Set에 대한 Accuracy가 가장 높았던 실험 조건과 그때의 Accuracy를 알려주세요!  \n",
    "5. 양식은 따로 없으며 이 주피터 노트북의 뒷부분에 추가로 1~4의 내용을 덧붙여서 정리하면 되겠습니다!\n",
    "\n",
    "**과제 시 도저히 해결할 수 없는 애러나 질문 사항은 제 깃허브의 [Issue](https://github.com/heartcored98/Standalone-DeepLearning/issues)란에 새 이슈를 남겨주세요**\n",
    "\n",
    "*Written by. 조재영(whwodud9@kaist.ac.kr) 2019.01.21 *"
   ]
  },
  {
   "cell_type": "markdown",
   "metadata": {
    "colab_type": "text",
    "id": "23sQEXhSfY4I"
   },
   "source": [
    "### 1. Data Preparation"
   ]
  },
  {
   "cell_type": "markdown",
   "metadata": {},
   "source": [
    "**Data Set**  \n",
    "$$X_{train} \\in \\mathcal{R}^{50000 \\times 784}, Y_{train} \\in \\mathcal{Z}^{50000}$$  \n",
    "$$X_{val} \\in \\mathcal{R}^{10000 \\times 784}, Y_{val} \\in \\mathcal{Z}^{10000}$$  \n",
    "$$X_{test} \\in \\mathcal{R}^{10000 \\times 784}, Y_{test} \\in \\mathcal{Z}^{10000}$$"
   ]
  },
  {
   "cell_type": "code",
   "execution_count": 3,
   "metadata": {},
   "outputs": [
    {
     "name": "stdout",
     "output_type": "stream",
     "text": [
      "Downloading http://yann.lecun.com/exdb/mnist/train-images-idx3-ubyte.gz\n",
      "Downloading http://yann.lecun.com/exdb/mnist/train-images-idx3-ubyte.gz to ./data/MNIST/raw/train-images-idx3-ubyte.gz\n"
     ]
    },
    {
     "name": "stderr",
     "output_type": "stream",
     "text": [
      "100%|██████████| 9912422/9912422 [00:01<00:00, 8714308.10it/s] \n"
     ]
    },
    {
     "name": "stdout",
     "output_type": "stream",
     "text": [
      "Extracting ./data/MNIST/raw/train-images-idx3-ubyte.gz to ./data/MNIST/raw\n",
      "\n",
      "Downloading http://yann.lecun.com/exdb/mnist/train-labels-idx1-ubyte.gz\n",
      "Downloading http://yann.lecun.com/exdb/mnist/train-labels-idx1-ubyte.gz to ./data/MNIST/raw/train-labels-idx1-ubyte.gz\n"
     ]
    },
    {
     "name": "stderr",
     "output_type": "stream",
     "text": [
      "100%|██████████| 28881/28881 [00:00<00:00, 1655786.63it/s]\n"
     ]
    },
    {
     "name": "stdout",
     "output_type": "stream",
     "text": [
      "Extracting ./data/MNIST/raw/train-labels-idx1-ubyte.gz to ./data/MNIST/raw\n",
      "\n",
      "Downloading http://yann.lecun.com/exdb/mnist/t10k-images-idx3-ubyte.gz\n",
      "Downloading http://yann.lecun.com/exdb/mnist/t10k-images-idx3-ubyte.gz to ./data/MNIST/raw/t10k-images-idx3-ubyte.gz\n"
     ]
    },
    {
     "name": "stderr",
     "output_type": "stream",
     "text": [
      "100%|██████████| 1648877/1648877 [00:00<00:00, 2076727.02it/s]\n"
     ]
    },
    {
     "name": "stdout",
     "output_type": "stream",
     "text": [
      "Extracting ./data/MNIST/raw/t10k-images-idx3-ubyte.gz to ./data/MNIST/raw\n",
      "\n",
      "Downloading http://yann.lecun.com/exdb/mnist/t10k-labels-idx1-ubyte.gz\n",
      "Downloading http://yann.lecun.com/exdb/mnist/t10k-labels-idx1-ubyte.gz to ./data/MNIST/raw/t10k-labels-idx1-ubyte.gz\n"
     ]
    },
    {
     "name": "stderr",
     "output_type": "stream",
     "text": [
      "100%|██████████| 4542/4542 [00:00<00:00, 46351651.50it/s]"
     ]
    },
    {
     "name": "stdout",
     "output_type": "stream",
     "text": [
      "Extracting ./data/MNIST/raw/t10k-labels-idx1-ubyte.gz to ./data/MNIST/raw\n",
      "\n",
      "50000 10000 10000\n"
     ]
    },
    {
     "name": "stderr",
     "output_type": "stream",
     "text": [
      "\n"
     ]
    }
   ],
   "source": [
    "import torch\n",
    "from torchvision import datasets, transforms\n",
    "import torch.nn as nn\n",
    "\n",
    "\n",
    "batch_size = 128\n",
    "train_dataset = datasets.MNIST('./data', train=True, download=True,\n",
    "                   transform=transforms.Compose([\n",
    "                       transforms.ToTensor(),\n",
    "                       transforms.Normalize((0.1307,), (0.3081,))\n",
    "                   ]))\n",
    "test_dataset =  datasets.MNIST('./data', train=False, download=True,\n",
    "                   transform=transforms.Compose([\n",
    "                       transforms.ToTensor(),\n",
    "                       transforms.Normalize((0.1307,), (0.3081,))\n",
    "                   ]))\n",
    "train_dataset, val_dataset = torch.utils.data.random_split(train_dataset, [50000, 10000])\n",
    "print(len(train_dataset), len(val_dataset), len(test_dataset))\n",
    "\n",
    "train_loader = torch.utils.data.DataLoader(train_dataset, batch_size=128, shuffle=True)\n",
    "val_loader = torch.utils.data.DataLoader(val_dataset, batch_size=128, shuffle=False)\n",
    "test_loader = torch.utils.data.DataLoader(test_dataset, batch_size=128, shuffle=False)"
   ]
  },
  {
   "cell_type": "markdown",
   "metadata": {},
   "source": [
    "### Inspecting Dataset"
   ]
  },
  {
   "cell_type": "code",
   "execution_count": 4,
   "metadata": {},
   "outputs": [
    {
     "data": {
      "image/png": "[encoded data removed]",
      "text/plain": [
       "<Figure size 1080x648 with 6 Axes>"
      ]
     },
     "metadata": {
      "needs_background": "light"
     },
     "output_type": "display_data"
    }
   ],
   "source": [
    "examples = enumerate(train_loader)\n",
    "batch_idx, (example_data, example_targets) = next(examples)  \n",
    "\n",
    "import matplotlib.pyplot as plt\n",
    "\n",
    "fig = plt.figure(figsize=(15, 9))\n",
    "for i in range(6):\n",
    "    plt.subplot(2,3,i+1)\n",
    "    plt.tight_layout()\n",
    "    plt.imshow(example_data[i][0], cmap='gray', interpolation='none')\n",
    "    plt.title(\"Ground Truth: {}\".format(example_targets[i]))\n",
    "plt.show()"
   ]
  },
  {
   "cell_type": "markdown",
   "metadata": {
    "colab_type": "text",
    "id": "lEqtbTROlXuB"
   },
   "source": [
    "### 2. Model Architecture"
   ]
  },
  {
   "cell_type": "code",
   "execution_count": 11,
   "metadata": {
    "colab": {
     "base_uri": "https://localhost:8080/",
     "height": 53
    },
    "colab_type": "code",
    "id": "40ht43Q1JpYI",
    "outputId": "2e740bff-a553-4f68-8091-23c77fc6d5be"
   },
   "outputs": [],
   "source": [
    "class MLPModel(nn.Module):\n",
    "    def __init__(self, hid_dim=128): \n",
    "        super(MLPModel, self).__init__()\n",
    "        self.linear1 = nn.Linear(784, hid_dim, bias=True)\n",
    "        self.linear2 = nn.Linear(hid_dim, 10, bias=True)\n",
    "        self.relu = nn.ReLU()\n",
    "    \n",
    "    def forward(self, x):\n",
    "        x = self.linear1(x)\n",
    "        x = self.relu(x)\n",
    "        x = self.linear2(x)\n",
    "        return x"
   ]
  },
  {
   "cell_type": "markdown",
   "metadata": {
    "colab_type": "text",
    "id": "FgdSvskSotgI"
   },
   "source": [
    "### 3. Cost Function Define (Loss Function Define)  "
   ]
  },
  {
   "cell_type": "code",
   "execution_count": 12,
   "metadata": {
    "colab": {
     "base_uri": "https://localhost:8080/",
     "height": 53
    },
    "colab_type": "code",
    "id": "yzNkZ_uwnufC",
    "outputId": "d6edd719-7915-4931-e16a-d6d618578da0"
   },
   "outputs": [],
   "source": [
    "cls_loss = nn.CrossEntropyLoss()"
   ]
  },
  {
   "cell_type": "markdown",
   "metadata": {},
   "source": [
    "### 4. Train & Evaluation"
   ]
  },
  {
   "cell_type": "code",
   "execution_count": 13,
   "metadata": {
    "scrolled": false
   },
   "outputs": [
    {
     "name": "stdout",
     "output_type": "stream",
     "text": [
      "Number of 101770 parameters\n",
      "Epoch: 0, Train Loss: 1.15099416334001, Val Loss: 0.6098416941829875, Test Acc: 86.77%\n",
      "Epoch: 1, Train Loss: 0.5120647733321275, Val Loss: 0.42964119586763505, Test Acc: 89.14999999999999%\n",
      "Epoch: 2, Train Loss: 0.40965560459724776, Val Loss: 0.3701765674956237, Test Acc: 90.18%\n",
      "Epoch: 3, Train Loss: 0.36600344710032956, Val Loss: 0.33939249624934376, Test Acc: 90.7%\n",
      "Epoch: 4, Train Loss: 0.33972616341260387, Val Loss: 0.31810107261319703, Test Acc: 91.19%\n",
      "Epoch: 5, Train Loss: 0.32093278591132834, Val Loss: 0.3019070027372505, Test Acc: 91.49000000000001%\n",
      "Epoch: 6, Train Loss: 0.30591005136442306, Val Loss: 0.28966171266157414, Test Acc: 91.9%\n",
      "Epoch: 7, Train Loss: 0.29358883926173307, Val Loss: 0.2793720527728902, Test Acc: 92.25999999999999%\n",
      "Epoch: 8, Train Loss: 0.28246319562654054, Val Loss: 0.27070304204391527, Test Acc: 92.43%\n",
      "Epoch: 9, Train Loss: 0.27230754521344325, Val Loss: 0.26143816358680966, Test Acc: 92.84%\n",
      "Epoch: 10, Train Loss: 0.2634455267425693, Val Loss: 0.25423418598461756, Test Acc: 92.84%\n",
      "Epoch: 11, Train Loss: 0.25498788051135707, Val Loss: 0.24697731227814396, Test Acc: 93.01%\n",
      "Epoch: 12, Train Loss: 0.24724460244559876, Val Loss: 0.24027349158555647, Test Acc: 93.25%\n",
      "Epoch: 13, Train Loss: 0.23968765736007325, Val Loss: 0.23491492716571952, Test Acc: 93.42%\n",
      "Epoch: 14, Train Loss: 0.23251396118451262, Val Loss: 0.22968944407339337, Test Acc: 93.52000000000001%\n",
      "Epoch: 15, Train Loss: 0.22591090505309117, Val Loss: 0.224603051248985, Test Acc: 93.81%\n",
      "Epoch: 16, Train Loss: 0.21975761693914223, Val Loss: 0.21899195788781853, Test Acc: 93.85%\n",
      "Epoch: 17, Train Loss: 0.2138611342176757, Val Loss: 0.21429837080119532, Test Acc: 94.02000000000001%\n",
      "Epoch: 18, Train Loss: 0.2080976565170776, Val Loss: 0.21007796056285688, Test Acc: 94.15%\n",
      "Epoch: 19, Train Loss: 0.20252130885639458, Val Loss: 0.2056653482627265, Test Acc: 94.31%\n",
      "Epoch: 20, Train Loss: 0.1973166243766275, Val Loss: 0.20148026358477678, Test Acc: 94.46%\n",
      "Epoch: 21, Train Loss: 0.19236536394528417, Val Loss: 0.1973195163698136, Test Acc: 94.58%\n",
      "Epoch: 22, Train Loss: 0.18769191305541322, Val Loss: 0.1937908323693879, Test Acc: 94.81%\n",
      "Epoch: 23, Train Loss: 0.1831515001137848, Val Loss: 0.1902754547758193, Test Acc: 94.89%\n",
      "Epoch: 24, Train Loss: 0.1787466814603342, Val Loss: 0.18682946651419507, Test Acc: 95.02000000000001%\n",
      "Epoch: 25, Train Loss: 0.1745906202194026, Val Loss: 0.18364265480939346, Test Acc: 95.07%\n",
      "Epoch: 26, Train Loss: 0.17069403877686662, Val Loss: 0.18061942861804478, Test Acc: 95.22%\n",
      "Epoch: 27, Train Loss: 0.16689377786863185, Val Loss: 0.17725043008221855, Test Acc: 95.28999999999999%\n",
      "Epoch: 28, Train Loss: 0.1632574695398283, Val Loss: 0.1742877160918109, Test Acc: 95.33%\n",
      "Epoch: 29, Train Loss: 0.1596832361329547, Val Loss: 0.1717343415263333, Test Acc: 95.47%\n"
     ]
    }
   ],
   "source": [
    "import torch.optim as optim\n",
    "from sklearn.metrics import accuracy_score\n",
    "\n",
    "# ====== Construct Model ====== #\n",
    "model = MLPModel()\n",
    "print('Number of {} parameters'.format(sum(p.numel() for p in model.parameters() if p.requires_grad)))\n",
    "\n",
    "# ===== Construct Optimizer ====== #\n",
    "lr = 0.005 \n",
    "optimizer = optim.SGD(model.parameters(), lr=lr) \n",
    "\n",
    "list_epoch = [] \n",
    "list_train_loss = []\n",
    "list_val_loss = []\n",
    "list_acc = []\n",
    "list_acc_epoch = []\n",
    "\n",
    "epoch = 30\n",
    "for i in range(epoch):\n",
    "    \n",
    "    # ====== Train ====== #\n",
    "    train_loss = 0\n",
    "    model.train() \n",
    "    \n",
    "    for input_X, true_y in train_loader:\n",
    "        optimizer.zero_grad() # [21.01.05 오류 수정] 매 Epoch 마다 .zero_grad()가 실행되는 것을 매 iteration 마다 실행되도록 수정했습니다. \n",
    "\n",
    "        input_X = input_X.squeeze() # shape from (batch_size, 1, 28, 28) to (batch_size, 28, 28)\n",
    "        input_X = input_X.view(-1, 784) # shape to (batch_size, 784)\n",
    "        pred_y = model(input_X)\n",
    "\n",
    "        loss = cls_loss(pred_y.squeeze(), true_y)\n",
    "        loss.backward() \n",
    "        optimizer.step() \n",
    "        train_loss += loss.detach().numpy()\n",
    "    train_loss = train_loss / len(train_loader)\n",
    "    list_train_loss.append(train_loss)\n",
    "    list_epoch.append(i)\n",
    "    \n",
    "    \n",
    "    # ====== Validation ====== #\n",
    "    val_loss = 0\n",
    "    model.eval()\n",
    "    # optimizer.zero_grad() [21.01.05 코드 클린업] 아래 torch.no_grad()가 호출되고 Validation 과정에서는 Optimizer를 사용하지 않으므로 굳이 호출될 필요가 없습니다. \n",
    "    \n",
    "    with torch.no_grad(): # [21.01.05 코드 클린업] Validation 과정에서 그라디언트가 활용되지 않도록 torch.no_grad() statement 안에서 코드를 실행합니다.\n",
    "        for input_X, true_y in val_loader:\n",
    "            input_X = input_X.squeeze()\n",
    "            input_X = input_X.view(-1, 784)\n",
    "            pred_y = model(input_X)\n",
    "\n",
    "            loss = cls_loss(pred_y.squeeze(), true_y)\n",
    "            val_loss += loss.detach().numpy()\n",
    "        val_loss = val_loss / len(val_loader)\n",
    "        list_val_loss.append(val_loss)\n",
    "\n",
    "\n",
    "    # ====== Evaluation ======= #\n",
    "    correct = 0\n",
    "    model.eval()\n",
    "    # optimizer.zero_grad() [21.01.05 코드 클린업] 아래 torch.no_grad()가 호출되고 Evaluation 과정에서는 Optimizer를 사용하지 않으므로 굳이 호출될 필요가 없습니다. \n",
    "\n",
    "    with torch.no_grad(): # [21.01.05 코드 클린업] Evaluation 과정에서 그라디언트가 활용되지 않도록 torch.no_grad() statement 안에서 코드를 실행합니다.\n",
    "        for input_X, true_y in test_loader:\n",
    "            input_X = input_X.squeeze()\n",
    "            input_X = input_X.view(-1, 784)\n",
    "            pred_y = model(input_X).max(1, keepdim=True)[1].squeeze()\n",
    "            correct += pred_y.eq(true_y).sum()\n",
    "\n",
    "        acc = correct.numpy() / len(test_loader.dataset)\n",
    "        list_acc.append(acc)\n",
    "        list_acc_epoch.append(i)\n",
    "    \n",
    "    print('Epoch: {}, Train Loss: {}, Val Loss: {}, Test Acc: {}%'.format(i, train_loss, val_loss, acc*100))"
   ]
  },
  {
   "cell_type": "markdown",
   "metadata": {},
   "source": [
    "### 5. Report Experiment  \n",
    "학습 과정에서 기록했던 train_loss와 val_loss를 그려봅시다.   \n",
    "Loss가 꾸준히 줄어드는지 확인하고 val_loss가 증가하기 시킨다면 그 이상의 학습은 점점 모델의 성능을 망침을 뜻합니다. \n",
    "그 옆에는 Epoch에 따라서 MAE metric이 얼마나 감소하는지 확인해봅시다."
   ]
  },
  {
   "cell_type": "code",
   "execution_count": 14,
   "metadata": {
    "scrolled": true
   },
   "outputs": [
    {
     "data": {
      "image/png": "[encoded data removed]",
      "text/plain": [
       "<Figure size 1080x360 with 2 Axes>"
      ]
     },
     "metadata": {
      "needs_background": "light"
     },
     "output_type": "display_data"
    }
   ],
   "source": [
    "fig = plt.figure(figsize=(15,5))\n",
    "\n",
    "# ====== Loss Fluctuation ====== #\n",
    "ax1 = fig.add_subplot(1, 2, 1)\n",
    "ax1.plot(list_epoch, list_train_loss, label='train_loss')\n",
    "ax1.plot(list_epoch, list_val_loss, '--', label='val_loss')\n",
    "ax1.set_xlabel('epoch')\n",
    "ax1.set_ylabel('loss')\n",
    "ax1.grid()\n",
    "ax1.legend()\n",
    "ax1.set_title('epoch vs loss')\n",
    "\n",
    "# ====== Metric Fluctuation ====== #\n",
    "ax2 = fig.add_subplot(1, 2, 2)\n",
    "ax2.plot(list_acc_epoch, list_acc, marker='x', label='Accuracy metric')\n",
    "ax2.set_xlabel('epoch')\n",
    "ax2.set_ylabel('Acc')\n",
    "ax2.grid()\n",
    "ax2.legend()\n",
    "ax2.set_title('epoch vs Accuracy')\n",
    "\n",
    "plt.show()"
   ]
  }
 ],
 "metadata": {
  "colab": {
   "collapsed_sections": [],
   "include_colab_link": true,
   "name": "linear regression.ipynb",
   "provenance": [],
   "version": "0.3.2"
  },
  "kernelspec": {
   "display_name": "Python 3",
   "language": "python",
   "name": "python3"
  },
  "language_info": {
   "codemirror_mode": {
    "name": "ipython",
    "version": 3
   },
   "file_extension": ".py",
   "mimetype": "text/x-python",
   "name": "python",
   "nbconvert_exporter": "python",
   "pygments_lexer": "ipython3",
   "version": "3.10.12"
  }
 },
 "nbformat": 4,
 "nbformat_minor": 1
}
